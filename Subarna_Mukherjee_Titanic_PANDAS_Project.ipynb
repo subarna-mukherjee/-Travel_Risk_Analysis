{
 "cells": [
  {
   "cell_type": "code",
   "execution_count": 1,
   "metadata": {
    "id": "_braCRM8KptU"
   },
   "outputs": [],
   "source": [
    "import pandas as pd\n",
    "import numpy as np\n"
   ]
  },
  {
   "cell_type": "code",
   "execution_count": 2,
   "metadata": {
    "colab": {
     "base_uri": "https://localhost:8080/",
     "height": 402
    },
    "id": "QWSxX3NaLBKd",
    "outputId": "f89827da-5bd4-4e8b-90e8-4b6b7b82625e"
   },
   "outputs": [
    {
     "ename": "FileNotFoundError",
     "evalue": "[Errno 2] No such file or directory: 'train.csv'",
     "output_type": "error",
     "traceback": [
      "\u001b[1;31m---------------------------------------------------------------------------\u001b[0m",
      "\u001b[1;31mFileNotFoundError\u001b[0m                         Traceback (most recent call last)",
      "\u001b[1;32m<ipython-input-2-8bc582e560a0>\u001b[0m in \u001b[0;36m<module>\u001b[1;34m\u001b[0m\n\u001b[1;32m----> 1\u001b[1;33m \u001b[0mtitanic\u001b[0m\u001b[1;33m=\u001b[0m\u001b[0mpd\u001b[0m\u001b[1;33m.\u001b[0m\u001b[0mread_csv\u001b[0m\u001b[1;33m(\u001b[0m\u001b[1;34m'train.csv'\u001b[0m\u001b[1;33m)\u001b[0m\u001b[1;33m\u001b[0m\u001b[1;33m\u001b[0m\u001b[0m\n\u001b[0m\u001b[0;32m      2\u001b[0m \u001b[0mtitanic\u001b[0m\u001b[1;33m\u001b[0m\u001b[1;33m\u001b[0m\u001b[0m\n",
      "\u001b[1;32m~\\anaconda3\\lib\\site-packages\\pandas\\io\\parsers.py\u001b[0m in \u001b[0;36mread_csv\u001b[1;34m(filepath_or_buffer, sep, delimiter, header, names, index_col, usecols, squeeze, prefix, mangle_dupe_cols, dtype, engine, converters, true_values, false_values, skipinitialspace, skiprows, skipfooter, nrows, na_values, keep_default_na, na_filter, verbose, skip_blank_lines, parse_dates, infer_datetime_format, keep_date_col, date_parser, dayfirst, cache_dates, iterator, chunksize, compression, thousands, decimal, lineterminator, quotechar, quoting, doublequote, escapechar, comment, encoding, dialect, error_bad_lines, warn_bad_lines, delim_whitespace, low_memory, memory_map, float_precision)\u001b[0m\n\u001b[0;32m    684\u001b[0m     )\n\u001b[0;32m    685\u001b[0m \u001b[1;33m\u001b[0m\u001b[0m\n\u001b[1;32m--> 686\u001b[1;33m     \u001b[1;32mreturn\u001b[0m \u001b[0m_read\u001b[0m\u001b[1;33m(\u001b[0m\u001b[0mfilepath_or_buffer\u001b[0m\u001b[1;33m,\u001b[0m \u001b[0mkwds\u001b[0m\u001b[1;33m)\u001b[0m\u001b[1;33m\u001b[0m\u001b[1;33m\u001b[0m\u001b[0m\n\u001b[0m\u001b[0;32m    687\u001b[0m \u001b[1;33m\u001b[0m\u001b[0m\n\u001b[0;32m    688\u001b[0m \u001b[1;33m\u001b[0m\u001b[0m\n",
      "\u001b[1;32m~\\anaconda3\\lib\\site-packages\\pandas\\io\\parsers.py\u001b[0m in \u001b[0;36m_read\u001b[1;34m(filepath_or_buffer, kwds)\u001b[0m\n\u001b[0;32m    450\u001b[0m \u001b[1;33m\u001b[0m\u001b[0m\n\u001b[0;32m    451\u001b[0m     \u001b[1;31m# Create the parser.\u001b[0m\u001b[1;33m\u001b[0m\u001b[1;33m\u001b[0m\u001b[1;33m\u001b[0m\u001b[0m\n\u001b[1;32m--> 452\u001b[1;33m     \u001b[0mparser\u001b[0m \u001b[1;33m=\u001b[0m \u001b[0mTextFileReader\u001b[0m\u001b[1;33m(\u001b[0m\u001b[0mfp_or_buf\u001b[0m\u001b[1;33m,\u001b[0m \u001b[1;33m**\u001b[0m\u001b[0mkwds\u001b[0m\u001b[1;33m)\u001b[0m\u001b[1;33m\u001b[0m\u001b[1;33m\u001b[0m\u001b[0m\n\u001b[0m\u001b[0;32m    453\u001b[0m \u001b[1;33m\u001b[0m\u001b[0m\n\u001b[0;32m    454\u001b[0m     \u001b[1;32mif\u001b[0m \u001b[0mchunksize\u001b[0m \u001b[1;32mor\u001b[0m \u001b[0miterator\u001b[0m\u001b[1;33m:\u001b[0m\u001b[1;33m\u001b[0m\u001b[1;33m\u001b[0m\u001b[0m\n",
      "\u001b[1;32m~\\anaconda3\\lib\\site-packages\\pandas\\io\\parsers.py\u001b[0m in \u001b[0;36m__init__\u001b[1;34m(self, f, engine, **kwds)\u001b[0m\n\u001b[0;32m    944\u001b[0m             \u001b[0mself\u001b[0m\u001b[1;33m.\u001b[0m\u001b[0moptions\u001b[0m\u001b[1;33m[\u001b[0m\u001b[1;34m\"has_index_names\"\u001b[0m\u001b[1;33m]\u001b[0m \u001b[1;33m=\u001b[0m \u001b[0mkwds\u001b[0m\u001b[1;33m[\u001b[0m\u001b[1;34m\"has_index_names\"\u001b[0m\u001b[1;33m]\u001b[0m\u001b[1;33m\u001b[0m\u001b[1;33m\u001b[0m\u001b[0m\n\u001b[0;32m    945\u001b[0m \u001b[1;33m\u001b[0m\u001b[0m\n\u001b[1;32m--> 946\u001b[1;33m         \u001b[0mself\u001b[0m\u001b[1;33m.\u001b[0m\u001b[0m_make_engine\u001b[0m\u001b[1;33m(\u001b[0m\u001b[0mself\u001b[0m\u001b[1;33m.\u001b[0m\u001b[0mengine\u001b[0m\u001b[1;33m)\u001b[0m\u001b[1;33m\u001b[0m\u001b[1;33m\u001b[0m\u001b[0m\n\u001b[0m\u001b[0;32m    947\u001b[0m \u001b[1;33m\u001b[0m\u001b[0m\n\u001b[0;32m    948\u001b[0m     \u001b[1;32mdef\u001b[0m \u001b[0mclose\u001b[0m\u001b[1;33m(\u001b[0m\u001b[0mself\u001b[0m\u001b[1;33m)\u001b[0m\u001b[1;33m:\u001b[0m\u001b[1;33m\u001b[0m\u001b[1;33m\u001b[0m\u001b[0m\n",
      "\u001b[1;32m~\\anaconda3\\lib\\site-packages\\pandas\\io\\parsers.py\u001b[0m in \u001b[0;36m_make_engine\u001b[1;34m(self, engine)\u001b[0m\n\u001b[0;32m   1176\u001b[0m     \u001b[1;32mdef\u001b[0m \u001b[0m_make_engine\u001b[0m\u001b[1;33m(\u001b[0m\u001b[0mself\u001b[0m\u001b[1;33m,\u001b[0m \u001b[0mengine\u001b[0m\u001b[1;33m=\u001b[0m\u001b[1;34m\"c\"\u001b[0m\u001b[1;33m)\u001b[0m\u001b[1;33m:\u001b[0m\u001b[1;33m\u001b[0m\u001b[1;33m\u001b[0m\u001b[0m\n\u001b[0;32m   1177\u001b[0m         \u001b[1;32mif\u001b[0m \u001b[0mengine\u001b[0m \u001b[1;33m==\u001b[0m \u001b[1;34m\"c\"\u001b[0m\u001b[1;33m:\u001b[0m\u001b[1;33m\u001b[0m\u001b[1;33m\u001b[0m\u001b[0m\n\u001b[1;32m-> 1178\u001b[1;33m             \u001b[0mself\u001b[0m\u001b[1;33m.\u001b[0m\u001b[0m_engine\u001b[0m \u001b[1;33m=\u001b[0m \u001b[0mCParserWrapper\u001b[0m\u001b[1;33m(\u001b[0m\u001b[0mself\u001b[0m\u001b[1;33m.\u001b[0m\u001b[0mf\u001b[0m\u001b[1;33m,\u001b[0m \u001b[1;33m**\u001b[0m\u001b[0mself\u001b[0m\u001b[1;33m.\u001b[0m\u001b[0moptions\u001b[0m\u001b[1;33m)\u001b[0m\u001b[1;33m\u001b[0m\u001b[1;33m\u001b[0m\u001b[0m\n\u001b[0m\u001b[0;32m   1179\u001b[0m         \u001b[1;32melse\u001b[0m\u001b[1;33m:\u001b[0m\u001b[1;33m\u001b[0m\u001b[1;33m\u001b[0m\u001b[0m\n\u001b[0;32m   1180\u001b[0m             \u001b[1;32mif\u001b[0m \u001b[0mengine\u001b[0m \u001b[1;33m==\u001b[0m \u001b[1;34m\"python\"\u001b[0m\u001b[1;33m:\u001b[0m\u001b[1;33m\u001b[0m\u001b[1;33m\u001b[0m\u001b[0m\n",
      "\u001b[1;32m~\\anaconda3\\lib\\site-packages\\pandas\\io\\parsers.py\u001b[0m in \u001b[0;36m__init__\u001b[1;34m(self, src, **kwds)\u001b[0m\n\u001b[0;32m   2006\u001b[0m         \u001b[0mkwds\u001b[0m\u001b[1;33m[\u001b[0m\u001b[1;34m\"usecols\"\u001b[0m\u001b[1;33m]\u001b[0m \u001b[1;33m=\u001b[0m \u001b[0mself\u001b[0m\u001b[1;33m.\u001b[0m\u001b[0musecols\u001b[0m\u001b[1;33m\u001b[0m\u001b[1;33m\u001b[0m\u001b[0m\n\u001b[0;32m   2007\u001b[0m \u001b[1;33m\u001b[0m\u001b[0m\n\u001b[1;32m-> 2008\u001b[1;33m         \u001b[0mself\u001b[0m\u001b[1;33m.\u001b[0m\u001b[0m_reader\u001b[0m \u001b[1;33m=\u001b[0m \u001b[0mparsers\u001b[0m\u001b[1;33m.\u001b[0m\u001b[0mTextReader\u001b[0m\u001b[1;33m(\u001b[0m\u001b[0msrc\u001b[0m\u001b[1;33m,\u001b[0m \u001b[1;33m**\u001b[0m\u001b[0mkwds\u001b[0m\u001b[1;33m)\u001b[0m\u001b[1;33m\u001b[0m\u001b[1;33m\u001b[0m\u001b[0m\n\u001b[0m\u001b[0;32m   2009\u001b[0m         \u001b[0mself\u001b[0m\u001b[1;33m.\u001b[0m\u001b[0munnamed_cols\u001b[0m \u001b[1;33m=\u001b[0m \u001b[0mself\u001b[0m\u001b[1;33m.\u001b[0m\u001b[0m_reader\u001b[0m\u001b[1;33m.\u001b[0m\u001b[0munnamed_cols\u001b[0m\u001b[1;33m\u001b[0m\u001b[1;33m\u001b[0m\u001b[0m\n\u001b[0;32m   2010\u001b[0m \u001b[1;33m\u001b[0m\u001b[0m\n",
      "\u001b[1;32mpandas\\_libs\\parsers.pyx\u001b[0m in \u001b[0;36mpandas._libs.parsers.TextReader.__cinit__\u001b[1;34m()\u001b[0m\n",
      "\u001b[1;32mpandas\\_libs\\parsers.pyx\u001b[0m in \u001b[0;36mpandas._libs.parsers.TextReader._setup_parser_source\u001b[1;34m()\u001b[0m\n",
      "\u001b[1;31mFileNotFoundError\u001b[0m: [Errno 2] No such file or directory: 'train.csv'"
     ]
    }
   ],
   "source": [
    "titanic=pd.read_csv('train.csv')\n",
    "titanic"
   ]
  },
  {
   "cell_type": "markdown",
   "metadata": {
    "id": "17w1gyqlOLW_"
   },
   "source": [
    "Passenger ID: Passenger number\n",
    "Survived: 0 for did not survive and 1 for survived\n",
    "Pclass: Passenger travel class\n",
    "Name: Name of the passenger\n",
    "Sex: Sex/Gender of the passenger\n",
    "Age: Age of the passenger\n",
    "SibSp: Number of siblings and spouses aboard\n",
    "Parch: Number of parents and children aboard\n",
    "Ticket: Ticket number\n",
    "Fare: The ticket price(in GBP)\n",
    "Cabin: Cabin\n",
    "Embarked: Embarkation point(C=Cherboug,Q=Queenstown,S=Southampton)"
   ]
  },
  {
   "cell_type": "code",
   "execution_count": null,
   "metadata": {
    "colab": {
     "base_uri": "https://localhost:8080/",
     "height": 195
    },
    "id": "tDWu_sfVLVEQ",
    "outputId": "8e826436-4925-4c79-e53d-60b065aa20cd"
   },
   "outputs": [],
   "source": [
    "titanic.head()"
   ]
  },
  {
   "cell_type": "code",
   "execution_count": null,
   "metadata": {
    "colab": {
     "base_uri": "https://localhost:8080/",
     "height": 195
    },
    "id": "eXAkz2plLdB9",
    "outputId": "c5daac71-90fb-4e88-b573-229fb81eaa44"
   },
   "outputs": [],
   "source": [
    "titanic.tail()"
   ]
  },
  {
   "cell_type": "code",
   "execution_count": null,
   "metadata": {
    "colab": {
     "base_uri": "https://localhost:8080/"
    },
    "id": "kvXNmwEnMn_c",
    "outputId": "ed634fe1-f67d-4eda-dca0-4f44b10d0ddd"
   },
   "outputs": [],
   "source": [
    "titanic.shape"
   ]
  },
  {
   "cell_type": "code",
   "execution_count": null,
   "metadata": {
    "colab": {
     "base_uri": "https://localhost:8080/",
     "height": 284
    },
    "id": "MzvPgxunMvXT",
    "outputId": "f5a7ccbd-23ea-47b2-9fc8-4b695a8233c6"
   },
   "outputs": [],
   "source": [
    "titanic.describe()"
   ]
  },
  {
   "cell_type": "code",
   "execution_count": null,
   "metadata": {
    "colab": {
     "base_uri": "https://localhost:8080/"
    },
    "id": "fEeYtRQcMbw2",
    "outputId": "1201be70-00d2-4aa6-f5ba-790c9cd04818"
   },
   "outputs": [],
   "source": [
    "titanic.isnull().sum()"
   ]
  },
  {
   "cell_type": "markdown",
   "metadata": {
    "id": "MKsWw2drNO2C"
   },
   "source": [
    "Now to separate out the columns which have more than 35% values missing"
   ]
  },
  {
   "cell_type": "code",
   "execution_count": null,
   "metadata": {
    "colab": {
     "base_uri": "https://localhost:8080/"
    },
    "id": "M4m7hT00MjNX",
    "outputId": "b94f4cfd-c45f-4376-a828-c5f13cc2520a"
   },
   "outputs": [],
   "source": [
    "drop_col=titanic.isnull().sum()[titanic.isnull().sum()>0.35*titanic.shape[0]]\n",
    "drop_col"
   ]
  },
  {
   "cell_type": "markdown",
   "metadata": {
    "id": "en4oh_rNkoyh"
   },
   "source": [
    "Finding index of the column with more than 35% of null values"
   ]
  },
  {
   "cell_type": "code",
   "execution_count": null,
   "metadata": {
    "colab": {
     "base_uri": "https://localhost:8080/"
    },
    "id": "5eu8irtqkn6s",
    "outputId": "933404a3-9074-4ef5-811d-b72ee67798c1"
   },
   "outputs": [],
   "source": [
    "drop_col.index"
   ]
  },
  {
   "cell_type": "markdown",
   "metadata": {
    "id": "igdQP4BElcIx"
   },
   "source": [
    "Now we drop the column ,'Cabin', as it has a large number of null values. We also replace the original data set with this altered dataset."
   ]
  },
  {
   "cell_type": "code",
   "execution_count": null,
   "metadata": {
    "colab": {
     "base_uri": "https://localhost:8080/",
     "height": 195
    },
    "id": "1ior2ugAlZw3",
    "outputId": "73041ef4-c563-4619-ab82-cb23a39634cf"
   },
   "outputs": [],
   "source": [
    "titanic.drop(drop_col.index,axis=1,inplace=True)\n",
    "titanic.head() #to ensure if our original data set has been altered"
   ]
  },
  {
   "cell_type": "code",
   "execution_count": null,
   "metadata": {
    "colab": {
     "base_uri": "https://localhost:8080/"
    },
    "id": "FecYOvt2mmCD",
    "outputId": "f593664e-a53c-4809-870f-6c2e66a1cd10"
   },
   "outputs": [],
   "source": [
    "titanic.isnull().sum()"
   ]
  },
  {
   "cell_type": "markdown",
   "metadata": {
    "id": "ltWqhMxanF0v"
   },
   "source": [
    "Now lets look at other columns with null values. Instead of removing these columns, we replace these null values with the mean value of the entire column."
   ]
  },
  {
   "cell_type": "code",
   "execution_count": null,
   "metadata": {
    "id": "P3u4ApmhnExY"
   },
   "outputs": [],
   "source": [
    "titanic.fillna(value=titanic.mean(),inplace=True)"
   ]
  },
  {
   "cell_type": "code",
   "execution_count": null,
   "metadata": {
    "colab": {
     "base_uri": "https://localhost:8080/"
    },
    "id": "tItLAjWpm1qr",
    "outputId": "227ec849-ec35-493b-83cc-4cf063931734"
   },
   "outputs": [],
   "source": [
    "titanic.isnull().sum()"
   ]
  },
  {
   "cell_type": "markdown",
   "metadata": {
    "id": "zWorHPHioIPA"
   },
   "source": [
    "As we can see the null values in the age column, have also been taken care of."
   ]
  },
  {
   "cell_type": "markdown",
   "metadata": {
    "id": "vJqbMFQKocM6"
   },
   "source": [
    "Now lets look at the column,'Embarked'. It has string values which includes 2 null values"
   ]
  },
  {
   "cell_type": "code",
   "execution_count": null,
   "metadata": {
    "colab": {
     "base_uri": "https://localhost:8080/"
    },
    "id": "Im1_-PiFoEYA",
    "outputId": "9336d4ff-c6da-44af-88d0-2c104d8917a2"
   },
   "outputs": [],
   "source": [
    "titanic.Embarked.describe()"
   ]
  },
  {
   "cell_type": "markdown",
   "metadata": {
    "id": "7-iBjPkHpJZw"
   },
   "source": [
    "As we observe,for  'Embarked' column, the most frequent value is 'S' and it occurs 644 times. We choose to replace our 2 null values with 'S'. Again with replace our original data set with this altered data set."
   ]
  },
  {
   "cell_type": "code",
   "execution_count": null,
   "metadata": {
    "id": "-J-5IQ3ipJEV"
   },
   "outputs": [],
   "source": [
    "titanic['Embarked'].fillna(value='S',inplace=True)"
   ]
  },
  {
   "cell_type": "markdown",
   "metadata": {
    "id": "bUKfh1RIqLy9"
   },
   "source": [
    "Again, we check our data set, if its free of every null values."
   ]
  },
  {
   "cell_type": "code",
   "execution_count": null,
   "metadata": {
    "colab": {
     "base_uri": "https://localhost:8080/"
    },
    "id": "YoDNlYKApI1b",
    "outputId": "88863321-ec72-4aea-c1d4-452af6306193"
   },
   "outputs": [],
   "source": [
    "titanic.isnull().sum()"
   ]
  },
  {
   "cell_type": "markdown",
   "metadata": {
    "id": "Z6q7bLNa3Tvx"
   },
   "source": []
  },
  {
   "cell_type": "markdown",
   "metadata": {
    "id": "UnBLXea4q4T7"
   },
   "source": [
    "Now its time to explore our data set. We start by checking if there is any correlation between the columns"
   ]
  },
  {
   "cell_type": "code",
   "execution_count": null,
   "metadata": {
    "colab": {
     "base_uri": "https://localhost:8080/",
     "height": 254
    },
    "id": "RPEhYTXjq38D",
    "outputId": "4d10a1e0-cda0-473b-c935-0a5c78754ac2"
   },
   "outputs": [],
   "source": [
    "titanic.corr()"
   ]
  },
  {
   "cell_type": "markdown",
   "metadata": {
    "id": "iUB7-uN4rqw3"
   },
   "source": [
    "To make the data set more compact, we drop SibSp and Parch from the original data set. Instead we create a new column 'FamilySize' which includes values from both the columns,'Parch' and'SibSp'."
   ]
  },
  {
   "cell_type": "code",
   "execution_count": null,
   "metadata": {
    "id": "_yTPNLa7pIph"
   },
   "outputs": [],
   "source": [
    "titanic['FamilySize']=titanic['SibSp']+titanic['Parch']\n",
    "titanic.drop(['SibSp','Parch'],axis=1,inplace=True)"
   ]
  },
  {
   "cell_type": "code",
   "execution_count": null,
   "metadata": {
    "colab": {
     "base_uri": "https://localhost:8080/",
     "height": 225
    },
    "id": "oSkQWDa6q3VS",
    "outputId": "76a94d5c-2a82-427d-93fa-4c7def22a1cd"
   },
   "outputs": [],
   "source": [
    "titanic.corr()"
   ]
  },
  {
   "cell_type": "markdown",
   "metadata": {
    "id": "CwmqxyYwuK0E"
   },
   "source": [
    "Now lets check if a person was alone or not,did it affect his survival chances?"
   ]
  },
  {
   "cell_type": "code",
   "execution_count": null,
   "metadata": {
    "colab": {
     "base_uri": "https://localhost:8080/",
     "height": 195
    },
    "id": "URZdE5ITqzQa",
    "outputId": "1f46ce92-8f5e-4550-af15-d571d2b780f4"
   },
   "outputs": [],
   "source": [
    "titanic['Alone']=[0 if titanic['FamilySize'][i]>0 else 1 for i in titanic.index]\n",
    "titanic.head()"
   ]
  },
  {
   "cell_type": "code",
   "execution_count": null,
   "metadata": {
    "colab": {
     "base_uri": "https://localhost:8080/"
    },
    "id": "345EGKXFpIck",
    "outputId": "fac1197f-9cd4-4e1a-fa17-1a23c782719f"
   },
   "outputs": [],
   "source": [
    "titanic.groupby(['Alone'])['Survived'].mean()"
   ]
  },
  {
   "cell_type": "markdown",
   "metadata": {
    "id": "PjO61GJrpIBx"
   },
   "source": [
    "As we see, the chances of survival were higher for a person who was travelling with his/her family.\n",
    "However,is it possible, that a person travelling with family was probably richer(and prioritized over others during rescue operations) than the one travelling alone? Lets investigate further."
   ]
  },
  {
   "cell_type": "code",
   "execution_count": null,
   "metadata": {
    "colab": {
     "base_uri": "https://localhost:8080/",
     "height": 106
    },
    "id": "29UQNzAXwsrt",
    "outputId": "6e3877c4-e27a-4e5d-aab2-483af0550949"
   },
   "outputs": [],
   "source": [
    "titanic[['Alone','Fare']].corr()"
   ]
  },
  {
   "cell_type": "markdown",
   "metadata": {
    "id": "W2bNZghdyESH"
   },
   "source": [
    "The negative correlation shows that, the person travelling alone, had lower chances of buying higher fare tickets."
   ]
  },
  {
   "cell_type": "markdown",
   "metadata": {
    "id": "HmOdaEcqysDj"
   },
   "source": [
    "Now lets investigate if the person's gender affected his/her chances of survuval or not."
   ]
  },
  {
   "cell_type": "code",
   "execution_count": null,
   "metadata": {
    "colab": {
     "base_uri": "https://localhost:8080/"
    },
    "id": "Z0Jtdz1bwr8b",
    "outputId": "8a318b23-9000-4aa5-8fda-91a26c052890"
   },
   "outputs": [],
   "source": [
    "titanic['Sex']=[0 if titanic['Sex'][i]=='male' else 1 for i in titanic.index]    #1 for female and 0 for male\n",
    "titanic.groupby(['Sex'])['Survived'].mean()"
   ]
  },
  {
   "cell_type": "markdown",
   "metadata": {
    "id": "1ACNVd_gz1Ob"
   },
   "source": [
    "This shows that female passengers had higher chances of survival than the males. Probably, the females and children were give priority, when the rescue opeartions started."
   ]
  },
  {
   "cell_type": "markdown",
   "metadata": {
    "id": "qG8sc5zA0zHE"
   },
   "source": [
    "Did embarkation point also affect the survival chances? Lets investigate."
   ]
  },
  {
   "cell_type": "code",
   "execution_count": null,
   "metadata": {
    "colab": {
     "base_uri": "https://localhost:8080/"
    },
    "id": "QFFte9Cn08qm",
    "outputId": "cd441fe4-d9a3-4285-d957-3f21c61e9c67"
   },
   "outputs": [],
   "source": [
    "titanic.groupby(['Embarked'])['Survived'].mean()"
   ]
  },
  {
   "cell_type": "markdown",
   "metadata": {
    "id": "sI5nM4Kn1Pc8"
   },
   "source": [
    "This shows that the passengers who embarked from Cherbourg, survived more, when compared to passengers from other embarkation points!"
   ]
  },
  {
   "cell_type": "markdown",
   "metadata": {
    "id": "WhViZLpB2jur"
   },
   "source": [
    "**Conclusions:**\n",
    "****\n",
    "\n",
    "*   Female passengers were prioritized over males.\n",
    "*   People who paid higher fares, had higher chances if survival.\n",
    "\n",
    "*   Passengers travelling with families had higher chances of survival\n",
    "\n",
    "*   Passengers who boarded the ship at Cherbourg had higher survival  rate than from any other boarding point.\n",
    "\n",
    "\n",
    "\n",
    "\n",
    "\n",
    "\n"
   ]
  },
  {
   "cell_type": "code",
   "execution_count": null,
   "metadata": {
    "id": "gVWIvNCn-1ul"
   },
   "outputs": [],
   "source": [
    "import matplotlib.pyplot as plt"
   ]
  },
  {
   "cell_type": "code",
   "execution_count": null,
   "metadata": {
    "colab": {
     "base_uri": "https://localhost:8080/",
     "height": 863
    },
    "id": "R56mW_vv_EA8",
    "outputId": "f4f85d22-9950-4704-dd01-01789a1c32f1"
   },
   "outputs": [],
   "source": [
    "titanic.plot(subplots=True,figsize=(15,15),sharex=False,sharey=True)\n",
    "plt.show()"
   ]
  },
  {
   "cell_type": "code",
   "execution_count": null,
   "metadata": {
    "id": "wWY5apAuBCRX"
   },
   "outputs": [],
   "source": [
    "xticks=[x for x in range(0,900,50)]"
   ]
  },
  {
   "cell_type": "code",
   "execution_count": null,
   "metadata": {
    "id": "B2ZvIENcBB_o"
   },
   "outputs": [],
   "source": [
    "yticks=[y for y in range(0,80,10)]"
   ]
  },
  {
   "cell_type": "code",
   "execution_count": null,
   "metadata": {
    "colab": {
     "base_uri": "https://localhost:8080/",
     "height": 917
    },
    "id": "u3rJ_jq3_Dsr",
    "outputId": "a73bdeb4-aae3-49d8-f1ac-edaf5474d30f"
   },
   "outputs": [],
   "source": [
    "titanic.Age.plot(figsize=(15,15),xlim=(0,900),ylim=(0,80),xticks=xticks,yticks=yticks)\n",
    "plt.grid()\n",
    "plt.title('Titanic-Ages',fontsize=15)\n",
    "plt.xlabel('Passenger number',fontsize=15)\n",
    "plt.ylabel('Age',fontsize=15)"
   ]
  },
  {
   "cell_type": "code",
   "execution_count": null,
   "metadata": {
    "colab": {
     "base_uri": "https://localhost:8080/",
     "height": 693
    },
    "id": "Z4zelGpyA-lg",
    "outputId": "d5d96e08-465c-48bc-c02c-406d03d7ac24"
   },
   "outputs": [],
   "source": [
    "titanic.plot(kind='scatter',figsize=(12,12),x='Age',xlim=(0,80),y='Fare',ylim=(0,100),c='Survived',colormap='viridis')\n",
    "plt.style.use('seaborn')\n",
    "plt.show()"
   ]
  },
  {
   "cell_type": "markdown",
   "metadata": {
    "id": "tnMQ1kTSoFKY"
   },
   "source": []
  }
 ],
 "metadata": {
  "colab": {
   "collapsed_sections": [],
   "name": "Subarna_Mukherjee_Titanic_PANDAS_Project.ipynb",
   "provenance": []
  },
  "kernelspec": {
   "display_name": "Python 3",
   "language": "python",
   "name": "python3"
  },
  "language_info": {
   "codemirror_mode": {
    "name": "ipython",
    "version": 3
   },
   "file_extension": ".py",
   "mimetype": "text/x-python",
   "name": "python",
   "nbconvert_exporter": "python",
   "pygments_lexer": "ipython3",
   "version": "3.8.5"
  }
 },
 "nbformat": 4,
 "nbformat_minor": 1
}
